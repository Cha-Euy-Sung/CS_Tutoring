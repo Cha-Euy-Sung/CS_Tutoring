{
  "nbformat": 4,
  "nbformat_minor": 0,
  "metadata": {
    "colab": {
      "name": "Copy of Copy of Assignment 1 - Fall 2020",
      "provenance": [],
      "collapsed_sections": []
    },
    "kernelspec": {
      "name": "python3",
      "display_name": "Python 3"
    }
  },
  "cells": [
    {
      "cell_type": "code",
      "metadata": {
        "id": "63obacxcrBEG"
      },
      "source": [
        ""
      ],
      "execution_count": null,
      "outputs": []
    },
    {
      "cell_type": "markdown",
      "metadata": {
        "id": "JSh_AElcrBse"
      },
      "source": [
        "**Part 1**: \n",
        "\n",
        "Use a Web API to get URLs for news articles\n",
        "Go to https://newsapi.org and create an account and get a key\n",
        "Write a function `getNews(source)` that accepts the name of a sourse, queries the NewsAPI, and returns back a list of URLs with the news stories that appear in that source. For example, the outcome of the command \n",
        "`getNews('the-wall-street-journal')`\n",
        "can be the following list:\n",
        "```json\n",
        "['https://www.wsj.com/articles/trump-faces-tensions-at-g-7-summit-1495803166',\n",
        " 'https://www.wsj.com/articles/gunmen-in-egypt-attack-bus-carrying-coptic-christians-1495796748',\n",
        " 'https://www.wsj.com/articles/u-k-rolls-up-alleged-accomplices-of-suicide-bomber-1495821597',\n",
        " 'https://www.wsj.com/articles/u-s-gdp-growth-revised-up-to-1-2-rate-in-first-quarter-1495802143', ....]\n",
        "```\n",
        "Follow the documentation at https://newsapi.org/#documentation and figure out how to get the list of articles from various news sources. \n"
      ]
    },
    {
      "cell_type": "code",
      "metadata": {
        "id": "edUQgba7srDq",
        "colab": {
          "base_uri": "https://localhost:8080/",
          "height": 56
        },
        "outputId": "dda8dfa4-a9f8-4f32-ea3f-88fbae82fa5e"
      },
      "source": [
        "import requests\n",
        "import json\n",
        "\n",
        "def getNews(source):\n",
        "  api_key = '14510d6efc1343bb98e1d4a43592ca61'\n",
        "  url = ('http://newsapi.org/v2/top-headlines?sources={}&apiKey={}'.format(source,api_key))\n",
        "  response = requests.get(url)\n",
        "  print(response.json())\n",
        "getNews('the-wall-street-journal')"
      ],
      "execution_count": null,
      "outputs": [
        {
          "output_type": "stream",
          "text": [
            "{'status': 'ok', 'totalResults': 10, 'articles': [{'source': {'id': 'the-wall-street-journal', 'name': 'The Wall Street Journal'}, 'author': 'Andrew Restuccia, John D. McKinnon, Georgia Wells', 'title': 'Trump Signs Off on Deal Allowing TikTok to Continue U.S. Operations', 'description': 'Agreement with Oracle, Walmart comes weeks after the Chinese-owned app was labeled a national-security threat', 'url': 'https://www.wsj.com/articles/trump-signs-off-on-deal-allowing-tiktok-to-continue-u-s-operations-11600551352?mod=hp_lead_pos1', 'urlToImage': 'https://images.wsj.net/im-233464/social', 'publishedAt': '2020-09-19T21:35:00Z', 'content': 'WASHINGTONPresident Trump said he has agreed in concept to a deal under which Chinese-owned video-sharing app TikTok will partner with Oracle Corp. and Walmart Inc. to become a U.S.-based company, ca… [+102 chars]'}, {'source': {'id': 'the-wall-street-journal', 'name': 'The Wall Street Journal'}, 'author': 'Jess Bravin', 'title': 'Justice Ruth Bader Ginsburg’s Death Puts Spotlight on Affordable Care Act', 'description': 'The death of Justice Ginsburg immediately changes the prospects for cases on Supreme Court’s docket', 'url': 'https://www.wsj.com/articles/justice-ruth-bader-ginsburgs-death-puts-spotlight-on-affordable-care-act-11600549424', 'urlToImage': 'https://images.wsj.net/im-234222/social', 'publishedAt': '2020-09-19T21:03:00Z', 'content': 'WASHINGTONThe death of Justice Ruth Bader Ginsburg is a devastating blow to the Supreme Courts liberal minority, pushing out of reachshould President Trump succeed in gaining confirmation of another … [+328 chars]'}, {'source': {'id': 'the-wall-street-journal', 'name': 'The Wall Street Journal'}, 'author': 'Aruna Viswanatha', 'title': 'Package Containing Ricin Was Intercepted in the White House Mail', 'description': 'The package appeared to have come from Canada, and no suspects are yet in custody, says U.S. official', 'url': 'https://www.wsj.com/articles/package-containing-ricin-was-intercepted-in-the-white-house-mail-11600543252?mod=hp_lead_pos3', 'urlToImage': 'https://images.wsj.net/im-207060/social', 'publishedAt': '2020-09-19T19:20:00Z', 'content': 'A package containing ricin was intercepted in the White House mail, a U.S. official familiar with the matter said. The package appeared to have come from Canada, and no suspects are yet in custody, t… [+335 chars]'}, {'source': {'id': 'the-wall-street-journal', 'name': 'The Wall Street Journal'}, 'author': 'Joshua Jamerson', 'title': 'Supreme Court Vacancy Offers Democrats, Republicans Fresh Way to Energize Supporters', 'description': 'Justice Ruth Bader Ginsburg’s death sharpens Joe Biden’s focus on health care, while President Trump says he would nominate conservative to open seat', 'url': 'https://www.wsj.com/articles/supreme-court-vacancy-offers-democrats-republicans-fresh-way-to-energize-supporters-11600543107', 'urlToImage': 'https://images.wsj.net/im-234215/social', 'publishedAt': '2020-09-19T19:18:00Z', 'content': 'Republicans and Democrats are trying to use the coming fight to fill Justice Ruth Bader Ginsburgs Supreme Court seat to motivate their bases, with each side arguing that it would be catastrophic to l… [+1253 chars]'}, {'source': {'id': 'the-wall-street-journal', 'name': 'The Wall Street Journal'}, 'author': 'Catherine Luce, Brent Kendall', 'title': 'Trump Urges Decision on Supreme Court Pick ‘Without Delay’', 'description': '', 'url': 'https://www.wsj.com/articles/trump-urges-decision-on-supreme-court-pick-without-delay-11600526646', 'urlToImage': 'https://images.wsj.net/im-234192/social', 'publishedAt': '2020-09-19T14:44:00Z', 'content': 'WASHINGTONPresident Trump said Republicans have been put in power to select Supreme Court justices, declaring a day after the death of Justice Ruth Bader Ginsburg that it is an obligation they must m… [+238 chars]'}, {'source': {'id': 'the-wall-street-journal', 'name': 'The Wall Street Journal'}, 'author': 'Alexa Corse', 'title': 'Declaring 2020’s Winner Could Well Hinge on How Quickly States Count Mail Ballots', 'description': 'Some key states don’t start counting mail ballots until Election Day, raising the possibility of delays', 'url': 'https://www.wsj.com/articles/declaring-2020s-winner-could-well-hinge-on-how-quickly-states-count-mail-ballots-11600524000?mod=hp_lead_pos4', 'urlToImage': 'https://images.wsj.net/im-234117/social', 'publishedAt': '2020-09-19T14:00:00Z', 'content': 'How soon Americans know the outcome of the presidential election could hinge on a few statesand how fast they count mail ballots.\\r\\nMany states allow election workers to start processing mail ballots … [+226 chars]'}, {'source': {'id': 'the-wall-street-journal', 'name': 'The Wall Street Journal'}, 'author': 'Trefor Moss', 'title': 'Alibaba and Tencent Kick the Tires on a New Idea—Keeping China’s Jalopies on the Road', 'description': 'The country’s vast fleet is aging. The two Chinese tech superpowers, spying an industry ripe for disruption, are collecting local repair shops.', 'url': 'https://www.wsj.com/articles/alibaba-and-tencent-kick-the-tires-on-a-new-ideakeeping-chinas-jalopies-on-the-road-11600513201?mod=hp_lead_pos5', 'urlToImage': 'https://images.wsj.net/im-233659/social', 'publishedAt': '2020-09-19T11:00:00Z', 'content': 'SHANGHAIChinas big tech companies are circling the auto-repair business in a bid to capture the boom in vehicle maintenance as the countrys vast car fleet begins to age.\\r\\n Alibaba Group Holding Ltd. … [+298 chars]'}, {'source': {'id': 'the-wall-street-journal', 'name': 'The Wall Street Journal'}, 'author': 'Jon Kamp', 'title': 'Death Toll From Covid-19 Pandemic Extends Far Beyond Virus Victims', 'description': 'Doctors and researchers say more Americans are dying from heart attacks and other health issues; drop in ER visits, health screenings', 'url': 'https://www.wsj.com/articles/death-toll-from-covid-19-pandemic-extends-far-beyond-virus-victims-11600507800?mod=hp_lead_pos2', 'urlToImage': 'https://images.wsj.net/im-233927/social', 'publishedAt': '2020-09-19T09:30:00Z', 'content': 'Researchers are finding growing evidence that the Covid-19 pandemics deadly reach is stretching far beyond people who died from coronavirus infections.\\r\\n From Alzheimers disease deaths to fatal heart… [+299 chars]'}, {'source': {'id': 'the-wall-street-journal', 'name': 'The Wall Street Journal'}, 'author': 'Chip Cutter', 'title': 'Companies’ New Back-to-Work Dilemma: Who Comes First?', 'description': 'Employers use algorithms and dashboards as they navigate liability concerns and bruised egos', 'url': 'https://www.wsj.com/articles/companies-new-back-to-work-dilemma-who-comes-first-11600488032?mod=hp_lead_pos6', 'urlToImage': 'https://images.wsj.net/im-233797/social', 'publishedAt': '2020-09-19T04:00:00Z', 'content': 'Companies reopening their workplaces are wrestling with a thorny problem: who should come back soonest.\\r\\n International Business Machines Corp. prioritized scientists working in quantum computer labs… [+301 chars]'}, {'source': {'id': 'the-wall-street-journal', 'name': 'The Wall Street Journal'}, 'author': 'Gerald F. Seib', 'title': 'Death of Justice Ruth Bader Ginsburg Affects Everything in Last Stretch of Campaign', 'description': 'This year’s October surprise just arrived, bringing an explosive new issue to presidential and Senate races', 'url': 'https://www.wsj.com/articles/death-of-justice-ruth-bader-ginsburg-affects-everything-in-last-stretch-of-campaign-11600481798', 'urlToImage': 'https://images.wsj.net/im-234145/social', 'publishedAt': '2020-09-19T02:16:00Z', 'content': 'Every four years, the political world speculates about an October surprise that might shake up the presidential campaign in its final stages.\\r\\nThis years October surprise just arrived, two weeks earl… [+1220 chars]'}]}\n"
          ],
          "name": "stdout"
        }
      ]
    },
    {
      "cell_type": "code",
      "metadata": {
        "id": "nBGgqwimTQxR",
        "colab": {
          "base_uri": "https://localhost:8080/",
          "height": 205
        },
        "outputId": "7a529474-a6ca-436e-c320-282de95a13f2"
      },
      "source": [
        "pip install newsapi-python"
      ],
      "execution_count": null,
      "outputs": [
        {
          "output_type": "stream",
          "text": [
            "Collecting newsapi-python\n",
            "  Downloading https://files.pythonhosted.org/packages/de/9e/9050199ac7cbc755d1c49577fdaa5517901124b574264b3602a8b8028440/newsapi_python-0.2.6-py2.py3-none-any.whl\n",
            "Requirement already satisfied: requests<3.0.0 in /usr/local/lib/python3.6/dist-packages (from newsapi-python) (2.23.0)\n",
            "Requirement already satisfied: idna<3,>=2.5 in /usr/local/lib/python3.6/dist-packages (from requests<3.0.0->newsapi-python) (2.10)\n",
            "Requirement already satisfied: certifi>=2017.4.17 in /usr/local/lib/python3.6/dist-packages (from requests<3.0.0->newsapi-python) (2020.6.20)\n",
            "Requirement already satisfied: urllib3!=1.25.0,!=1.25.1,<1.26,>=1.21.1 in /usr/local/lib/python3.6/dist-packages (from requests<3.0.0->newsapi-python) (1.24.3)\n",
            "Requirement already satisfied: chardet<4,>=3.0.2 in /usr/local/lib/python3.6/dist-packages (from requests<3.0.0->newsapi-python) (3.0.4)\n",
            "Installing collected packages: newsapi-python\n",
            "Successfully installed newsapi-python-0.2.6\n"
          ],
          "name": "stdout"
        }
      ]
    },
    {
      "cell_type": "code",
      "metadata": {
        "id": "UGRnmyBmTNhT",
        "colab": {
          "base_uri": "https://localhost:8080/",
          "height": 204
        },
        "outputId": "6adcfb13-dbd6-48a9-b9ab-c3185f9de90f"
      },
      "source": [
        "from newsapi import NewsApiClient\n",
        "def getNews(source):\n",
        "  aList = list()\n",
        "  api = NewsApiClient(api_key='14510d6efc1343bb98e1d4a43592ca61')\n",
        "  a = api.get_top_headlines(sources=source)\n",
        "  for i in a['articles']:\n",
        "    aList.append(i['url'])\n",
        "  return aList\n",
        "getNews('the-wall-street-journal')"
      ],
      "execution_count": null,
      "outputs": [
        {
          "output_type": "execute_result",
          "data": {
            "text/plain": [
              "['https://www.wsj.com/articles/trump-signs-off-on-deal-allowing-tiktok-to-continue-u-s-operations-11600551352?mod=hp_lead_pos1',\n",
              " 'https://www.wsj.com/articles/justice-ruth-bader-ginsburgs-death-puts-spotlight-on-affordable-care-act-11600549424',\n",
              " 'https://www.wsj.com/articles/package-containing-ricin-was-intercepted-in-the-white-house-mail-11600543252?mod=hp_lead_pos3',\n",
              " 'https://www.wsj.com/articles/supreme-court-vacancy-offers-democrats-republicans-fresh-way-to-energize-supporters-11600543107',\n",
              " 'https://www.wsj.com/articles/trump-urges-decision-on-supreme-court-pick-without-delay-11600526646',\n",
              " 'https://www.wsj.com/articles/declaring-2020s-winner-could-well-hinge-on-how-quickly-states-count-mail-ballots-11600524000?mod=hp_lead_pos4',\n",
              " 'https://www.wsj.com/articles/alibaba-and-tencent-kick-the-tires-on-a-new-ideakeeping-chinas-jalopies-on-the-road-11600513201?mod=hp_lead_pos5',\n",
              " 'https://www.wsj.com/articles/death-toll-from-covid-19-pandemic-extends-far-beyond-virus-victims-11600507800?mod=hp_lead_pos2',\n",
              " 'https://www.wsj.com/articles/companies-new-back-to-work-dilemma-who-comes-first-11600488032?mod=hp_lead_pos6',\n",
              " 'https://www.wsj.com/articles/death-of-justice-ruth-bader-ginsburg-affects-everything-in-last-stretch-of-campaign-11600481798']"
            ]
          },
          "metadata": {
            "tags": []
          },
          "execution_count": 30
        }
      ]
    },
    {
      "cell_type": "markdown",
      "metadata": {
        "id": "IdvqvtfFrM4Y"
      },
      "source": [
        "\n",
        "\n",
        "**Part 2**: Analyze a news article using IBM Watson Natural Language Understanding API\n",
        "Use the IBM Watson Natural Language Understanding API, and write a function `extractEntities(url, source)` that takes as input a URL and its source, and returns a list of dictionaries, with every dictionary containing the entity name, the URL where the entity appeared, the relevance of the entity to the article, the sentiment about the entity, and the source. For example a dictionary for one entity may look like:\n",
        "```json\n",
        "  {\n",
        "    'entity': 'Donald Trump',\n",
        "    'url': 'http://www.politico.com/story/2017/05/23/infrastructure-transportation-trump-budget-238741',\n",
        "    'source': 'politico',\n",
        "    'relevance': 0.882851,\n",
        "    'sentiment': -0.25\n",
        "  }\n",
        "```    \n",
        "The function `extractEntities` should return a list of dictionaries, with each dictionary in the list corresponding to one entity.\n"
      ]
    },
    {
      "cell_type": "code",
      "metadata": {
        "id": "NNAQbNO4srwK"
      },
      "source": [
        ""
      ],
      "execution_count": null,
      "outputs": []
    },
    {
      "cell_type": "markdown",
      "metadata": {
        "id": "a8jBocvjrOg0"
      },
      "source": [
        "**Part 3**: Extract the entities that appear in the news and put them all in a dataframe.\n",
        "\n",
        "Use the extractEntities(url) function to extract the entities that appear in The Wall Street Journal and The Washington Post stories.\n",
        "\n",
        "Using the `list.extend` function you can take the entities and add them to a list using code like this:\n",
        "\n",
        "```python\n",
        "all_entities = []\n",
        "for url in urls:\n",
        "  entities = extractEntities(url)\n",
        "  all_entities.extend(entities)\n",
        "```\n",
        "\n",
        "\n",
        "Load the extracted entities into a Pandas Dataframe. Remember that if you have a list of dictionaries, you can directly load the list into a dataframe. For example:\n",
        "\n",
        "```python\n",
        "import pandas as pd\n",
        "\n",
        "entities = [\n",
        "  {'entity': 'Donald Trump',\n",
        "  'relevance': 0.338152,\n",
        "  'sentiment': 0.0116408,\n",
        "  'source': 'reuters',\n",
        "  'url': 'http://www.reuters.com/article/us-religion-ramadan-usa-tillerson-exclsu-idUSKBN18M2IE'},\n",
        "  {'entity': 'United States',\n",
        "  'relevance': 0.337925,\n",
        "  'sentiment': -0.373016,\n",
        "  'source': 'reuters',\n",
        "  'url': 'http://www.reuters.com/article/us-religion-ramadan-usa-tillerson-exclsu-idUSKBN18M2IE'},\n",
        "{'entity': 'Donald Trump',\n",
        "  'relevance': 0.89934,\n",
        "  'sentiment': 0.244183,\n",
        "  'source': 'associated-press',\n",
        "  'url': 'https://apnews.com/088c39d02cbc40a9871654c848c2c069'},\n",
        "  {'entity': 'United States',\n",
        "  'relevance': 0.303394,\n",
        "  'sentiment': 0.0691811,\n",
        "  'source': 'associated-press',\n",
        "  'url': 'https://apnews.com/088c39d02cbc40a9871654c848c2c069'},\n",
        "]\n",
        "\n",
        "df = pd.DataFrame(entities)\n",
        "df\n",
        "```"
      ]
    },
    {
      "cell_type": "code",
      "metadata": {
        "id": "5zDqWjuHt2Ye",
        "colab": {
          "base_uri": "https://localhost:8080/",
          "height": 173
        },
        "outputId": "9141c22c-8a72-472d-82ed-7a190c1e1c1c"
      },
      "source": [
        "import pandas as pd\n",
        " \n",
        "entities = [\n",
        "  {'entity': 'Donald Trump',\n",
        "  'relevance': 0.338152,\n",
        "  'sentiment': 0.0116408,\n",
        "  'source': 'reuters',\n",
        "  'url': 'http://www.reuters.com/article/us-religion-ramadan-usa-tillerson-exclsu-idUSKBN18M2IE'},\n",
        "  {'entity': 'United States',\n",
        "  'relevance': 0.337925,\n",
        "  'sentiment': -0.373016,\n",
        "  'source': 'reuters',\n",
        "  'url': 'http://www.reuters.com/article/us-religion-ramadan-usa-tillerson-exclsu-idUSKBN18M2IE'},\n",
        "{'entity': 'Donald Trump',\n",
        "  'relevance': 0.89934,\n",
        "  'sentiment': 0.244183,\n",
        "  'source': 'associated-press',\n",
        "  'url': 'https://apnews.com/088c39d02cbc40a9871654c848c2c069'},\n",
        "  {'entity': 'United States',\n",
        "  'relevance': 0.303394,\n",
        "  'sentiment': 0.0691811,\n",
        "  'source': 'associated-press',\n",
        "  'url': 'https://apnews.com/088c39d02cbc40a9871654c848c2c069'},\n",
        "]\n",
        " \n",
        "df = pd.DataFrame(entities)\n",
        "df"
      ],
      "execution_count": null,
      "outputs": [
        {
          "output_type": "execute_result",
          "data": {
            "text/html": [
              "<div>\n",
              "<style scoped>\n",
              "    .dataframe tbody tr th:only-of-type {\n",
              "        vertical-align: middle;\n",
              "    }\n",
              "\n",
              "    .dataframe tbody tr th {\n",
              "        vertical-align: top;\n",
              "    }\n",
              "\n",
              "    .dataframe thead th {\n",
              "        text-align: right;\n",
              "    }\n",
              "</style>\n",
              "<table border=\"1\" class=\"dataframe\">\n",
              "  <thead>\n",
              "    <tr style=\"text-align: right;\">\n",
              "      <th></th>\n",
              "      <th>entity</th>\n",
              "      <th>relevance</th>\n",
              "      <th>sentiment</th>\n",
              "      <th>source</th>\n",
              "      <th>url</th>\n",
              "    </tr>\n",
              "  </thead>\n",
              "  <tbody>\n",
              "    <tr>\n",
              "      <th>0</th>\n",
              "      <td>Donald Trump</td>\n",
              "      <td>0.338152</td>\n",
              "      <td>0.011641</td>\n",
              "      <td>reuters</td>\n",
              "      <td>http://www.reuters.com/article/us-religion-ram...</td>\n",
              "    </tr>\n",
              "    <tr>\n",
              "      <th>1</th>\n",
              "      <td>United States</td>\n",
              "      <td>0.337925</td>\n",
              "      <td>-0.373016</td>\n",
              "      <td>reuters</td>\n",
              "      <td>http://www.reuters.com/article/us-religion-ram...</td>\n",
              "    </tr>\n",
              "    <tr>\n",
              "      <th>2</th>\n",
              "      <td>Donald Trump</td>\n",
              "      <td>0.899340</td>\n",
              "      <td>0.244183</td>\n",
              "      <td>associated-press</td>\n",
              "      <td>https://apnews.com/088c39d02cbc40a9871654c848c...</td>\n",
              "    </tr>\n",
              "    <tr>\n",
              "      <th>3</th>\n",
              "      <td>United States</td>\n",
              "      <td>0.303394</td>\n",
              "      <td>0.069181</td>\n",
              "      <td>associated-press</td>\n",
              "      <td>https://apnews.com/088c39d02cbc40a9871654c848c...</td>\n",
              "    </tr>\n",
              "  </tbody>\n",
              "</table>\n",
              "</div>"
            ],
            "text/plain": [
              "          entity  ...                                                url\n",
              "0   Donald Trump  ...  http://www.reuters.com/article/us-religion-ram...\n",
              "1  United States  ...  http://www.reuters.com/article/us-religion-ram...\n",
              "2   Donald Trump  ...  https://apnews.com/088c39d02cbc40a9871654c848c...\n",
              "3  United States  ...  https://apnews.com/088c39d02cbc40a9871654c848c...\n",
              "\n",
              "[4 rows x 5 columns]"
            ]
          },
          "metadata": {
            "tags": []
          },
          "execution_count": 1
        }
      ]
    }
  ]
}